{
 "cells": [
  {
   "cell_type": "markdown",
   "metadata": {},
   "source": [
    "### Exercise 1\n",
    "Create a file called <b>exercise1.txt</b> and write following lines:\n",
    "\n",
    "    Twinkle, twinkle, little star,\n",
    "    How I wonder what you are.\n",
    "    Up above the world so high,\n",
    "    Like a diamond in the sky.\n",
    "    \n",
    "    \n",
    "Don't forget to close the file.        "
   ]
  },
  {
   "cell_type": "code",
   "execution_count": 22,
   "metadata": {},
   "outputs": [],
   "source": [
    "file = open('exercise1.txt','w')\n",
    "file.write(\"Twinkle, twinkle, little star,\\n How I wonder what you are.\\nUp above the world so high,\\nLike a diamond in the sky.\\n\")\n",
    "file.close()"
   ]
  },
  {
   "cell_type": "code",
   "execution_count": null,
   "metadata": {},
   "outputs": [],
   "source": []
  },
  {
   "cell_type": "markdown",
   "metadata": {},
   "source": [
    "### Exercise 2\n",
    "Append following lines to a file called <b>exercise1.txt</b>:\n",
    "\n",
    "    Twinkle, twinkle, little star,\n",
    "    How I wonder what you are.\n",
    "    \n",
    "Don't forget to close the file.    "
   ]
  },
  {
   "cell_type": "code",
   "execution_count": 23,
   "metadata": {},
   "outputs": [],
   "source": [
    "file = open('exercise1.txt','a')\n",
    "file.write(\"Twinkle, twinkle, little star,\\n How I wonder what you are.\")\n",
    "file.close()\n"
   ]
  },
  {
   "cell_type": "code",
   "execution_count": null,
   "metadata": {},
   "outputs": [],
   "source": []
  },
  {
   "cell_type": "markdown",
   "metadata": {},
   "source": [
    "### Exercise 3\n",
    "Read a file, <b>exercise1.txt</b> and print the content of the file using a loop.\n",
    "    \n",
    "Don't forget to close the file.    "
   ]
  },
  {
   "cell_type": "code",
   "execution_count": 39,
   "metadata": {},
   "outputs": [
    {
     "name": "stdout",
     "output_type": "stream",
     "text": [
      "Twinkle, twinkle, little star,\n",
      "\n"
     ]
    }
   ],
   "source": [
    "f = open('exercise1.txt','r')\n",
    "content = f.readlines()\n",
    "#print(content) #this works better\n",
    "for x in content:\n",
    "    print(x)\n",
    "    \n",
    "#for line in f:\n",
    " #   line.readline()\n",
    "  #  print(line)\n",
    "f.close()\n",
    "#file1 = open('exercise1.txt', 'r')\n",
    "#Lines = file1.readlines()"
   ]
  },
  {
   "cell_type": "code",
   "execution_count": null,
   "metadata": {},
   "outputs": [],
   "source": []
  },
  {
   "cell_type": "markdown",
   "metadata": {},
   "source": [
    "### Exercise 4\n",
    "Read line number 4 from the file, <b>exercise1.txt</b>."
   ]
  },
  {
   "cell_type": "code",
   "execution_count": 42,
   "metadata": {},
   "outputs": [
    {
     "name": "stdout",
     "output_type": "stream",
     "text": [
      "['Twinkle, twinkle, little star,\\n']\n"
     ]
    }
   ],
   "source": [
    "file = open('exercise1.txt','r')\n",
    "content = file.readlines(4)\n",
    "print(content)"
   ]
  },
  {
   "cell_type": "code",
   "execution_count": null,
   "metadata": {},
   "outputs": [],
   "source": []
  },
  {
   "cell_type": "markdown",
   "metadata": {},
   "source": [
    "### Exercise 5\n",
    "Write a program that asks the user for a number and a file name, then prints out the number from 1 to that number, one one each line to a file named using user's input.\n",
    "Then, read that file and print out its content."
   ]
  },
  {
   "cell_type": "code",
   "execution_count": 56,
   "metadata": {},
   "outputs": [
    {
     "name": "stdout",
     "output_type": "stream",
     "text": [
      "please enter a number:10\n",
      "please give me a filename (give it a .txt):nothing.txt\n"
     ]
    }
   ],
   "source": [
    "number = input(\"please enter a number:\")\n",
    "number = int(number)\n",
    "\n",
    "    \n",
    "filename = input(\"please give me a filename (give it a .txt):\")\n",
    "file = open(filename,\"w\")\n",
    "for num in range(1,number+1):\n",
    "    #print(num)\n",
    "    num = str(num)\n",
    "    file.write(num)\n",
    "  \n",
    "file.close()"
   ]
  },
  {
   "cell_type": "code",
   "execution_count": null,
   "metadata": {},
   "outputs": [],
   "source": []
  },
  {
   "cell_type": "markdown",
   "metadata": {},
   "source": [
    "### Exercise 6\n",
    "Merge a file from exercise 5 and <b>exercise1.txt</b> to a file called <b>merged.txt</b>. Then, prin out the content of <b>merged.txt</b> before closing the file."
   ]
  },
  {
   "cell_type": "code",
   "execution_count": 59,
   "metadata": {},
   "outputs": [
    {
     "name": "stdout",
     "output_type": "stream",
     "text": [
      "['Twinkle, twinkle, little star,\\n', ' How I wonder what you are.\\n', 'Up above the world so high,\\n', 'Like a diamond in the sky.\\n', 'Twinkle, twinkle, little star,\\n', ' How I wonder what you are.', '12345678910']\n"
     ]
    }
   ],
   "source": [
    "#exercise1.txt,nothing.txt into merged.txt\n",
    "\n",
    "file = open(\"exercise1.txt\",'r')\n",
    "file2 = open(\"nothing.txt\",'r')\n",
    "content1 = file.readlines()\n",
    "content2 = file2.readlines()\n",
    "content3 = content1 + content2\n",
    "content3 = str(content3)\n",
    "print(content3)\n",
    "\n",
    "file3 = open(\"merged.txt\",'w')\n",
    "file3.write(content3)\n",
    "\n",
    "file.close()\n",
    "file2.close()\n",
    "file3.close()\n"
   ]
  },
  {
   "cell_type": "code",
   "execution_count": null,
   "metadata": {},
   "outputs": [],
   "source": []
  }
 ],
 "metadata": {
  "kernelspec": {
   "display_name": "Python 3 (ipykernel)",
   "language": "python",
   "name": "python3"
  },
  "language_info": {
   "codemirror_mode": {
    "name": "ipython",
    "version": 3
   },
   "file_extension": ".py",
   "mimetype": "text/x-python",
   "name": "python",
   "nbconvert_exporter": "python",
   "pygments_lexer": "ipython3",
   "version": "3.10.9"
  }
 },
 "nbformat": 4,
 "nbformat_minor": 4
}
